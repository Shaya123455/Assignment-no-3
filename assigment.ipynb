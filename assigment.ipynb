{
 "cells": [
  {
   "cell_type": "code",
   "execution_count": 4,
   "metadata": {},
   "outputs": [
    {
     "name": "stdout",
     "output_type": "stream",
     "text": [
      "First_name shayan\n",
      "Last_namekhan\n",
      "shayan_khan\n"
     ]
    }
   ],
   "source": [
    "#6\n",
    "a =input(\"First_name \");\n",
    "b =input(\"Last_name\");\n",
    "print(a+\"_\"+b)"
   ]
  },
  {
   "cell_type": "code",
   "execution_count": 29,
   "metadata": {},
   "outputs": [],
   "source": [
    "#1\n",
    "a = \"Twinkle, twinkle, little star,\";\n",
    "b = \"\\n\\tHow I wonder what you are!\";\n",
    "c = \"\\n\\t\\tUp above the world so high,\"\n",
    "d = \"\\n\\t\\tLike a diamond in the sky. \"\n",
    "e = \"Twinkle, twinkle, little star, \"\n",
    "f = \"\\n\\tHow I wonder what you are!\"\n"
   ]
  },
  {
   "cell_type": "code",
   "execution_count": 30,
   "metadata": {
    "scrolled": true
   },
   "outputs": [
    {
     "name": "stdout",
     "output_type": "stream",
     "text": [
      "Twinkle, twinkle, little star,\n",
      "\tHow I wonder what you are!\n",
      "\t\tUp above the world so high,\n",
      "\t\tLike a diamond in the sky. Twinkle, twinkle, little star, \n",
      "\tHow I wonder what you are!\n"
     ]
    }
   ],
   "source": [
    "print(a+b+c+d+e+f)"
   ]
  },
  {
   "cell_type": "code",
   "execution_count": 32,
   "metadata": {},
   "outputs": [
    {
     "name": "stdout",
     "output_type": "stream",
     "text": [
      "3.8.5\n"
     ]
    }
   ],
   "source": [
    "#2\n",
    "from platform import python_version\n",
    "print(python_version())"
   ]
  },
  {
   "cell_type": "code",
   "execution_count": 15,
   "metadata": {},
   "outputs": [
    {
     "name": "stdout",
     "output_type": "stream",
     "text": [
      "2021-10-23 01:10:28.137888\n"
     ]
    }
   ],
   "source": [
    "#3\n",
    "import datetime \n",
    "date_time = datetime.datetime.now()\n",
    "print(date_time)"
   ]
  },
  {
   "cell_type": "code",
   "execution_count": 1,
   "metadata": {},
   "outputs": [
    {
     "name": "stdout",
     "output_type": "stream",
     "text": [
      "enter radius value56\n",
      "area of circle is :  175.84  squared units.\n"
     ]
    }
   ],
   "source": [
    "#4\n",
    "pi =3.14\n",
    "radius = int(input(\"enter radius value\"))\n",
    "area = pi*radius\n",
    "print(\"area of circle is : \", area,\" squared units.\")"
   ]
  },
  {
   "cell_type": "code",
   "execution_count": 3,
   "metadata": {},
   "outputs": [
    {
     "name": "stdout",
     "output_type": "stream",
     "text": [
      "nahk nayahs\n"
     ]
    }
   ],
   "source": [
    "#5\n",
    "name = \"shayan khan\" [::-1]\n",
    "print(name)"
   ]
  },
  {
   "cell_type": "code",
   "execution_count": 2,
   "metadata": {},
   "outputs": [
    {
     "name": "stdout",
     "output_type": "stream",
     "text": [
      "enter your number22\n",
      "this is even number\n"
     ]
    }
   ],
   "source": [
    "#8\n",
    "number = int(input(\"enter your number\"))\n",
    "mod =number % 2\n",
    "if mod > 0:\n",
    "    print(\"this is odd number\")\n",
    "elif mod == 0:\n",
    "    print(\"this is even number\")\n",
    "else:\n",
    "    print(\"this is not number\")"
   ]
  },
  {
   "cell_type": "code",
   "execution_count": 2,
   "metadata": {},
   "outputs": [
    {
     "data": {
      "text/plain": [
       "4"
      ]
     },
     "execution_count": 2,
     "metadata": {},
     "output_type": "execute_result"
    }
   ],
   "source": [
    "#9\n",
    "list = [\"anas\",\"shayan\",\"shaban\",\"sambi\"]\n",
    "len(list)"
   ]
  },
  {
   "cell_type": "code",
   "execution_count": 27,
   "metadata": {},
   "outputs": [
    {
     "name": "stdout",
     "output_type": "stream",
     "text": [
      "enter english number= 55\n",
      "enter urdu number= 55\n",
      "enter math number= 55\n",
      "enter physics number= 55\n",
      "enter chemistry number= 55\n",
      "C grade\n"
     ]
    }
   ],
   "source": [
    "#7\n",
    "english = int(input(\"enter english number= \"));\n",
    "urdu = int(input(\"enter urdu number= \"));\n",
    "math = int(input(\"enter math number= \"));\n",
    "physics = int(input(\"enter physics number= \"));\n",
    "chemistry = int(input(\"enter chemistry number= \"));\n",
    "total = 500;\n",
    "obtain_marks = english+urdu+math+physics+chemistry\n",
    "percentage = (obtain_marks/total)*100\n",
    "if percentage >=100 and percentage >=80:\n",
    "    print(\"A+ grade\",percentage);\n",
    "elif percentage < 80 and percentage >=70:\n",
    "    print(\"A grade\");\n",
    "elif percentage < 70 and percentage >=60:\n",
    "    print(\"B grade\");\n",
    "elif percentage < 60 and percentage >=50:\n",
    "    print(\"C grade\");       \n",
    "else:\n",
    "    print(\"Fail\")"
   ]
  },
  {
   "cell_type": "markdown",
   "metadata": {},
   "source": [
    "##### "
   ]
  },
  {
   "cell_type": "code",
   "execution_count": null,
   "metadata": {},
   "outputs": [],
   "source": []
  }
 ],
 "metadata": {
  "kernelspec": {
   "display_name": "Python 3",
   "language": "python",
   "name": "python3"
  },
  "language_info": {
   "codemirror_mode": {
    "name": "ipython",
    "version": 3
   },
   "file_extension": ".py",
   "mimetype": "text/x-python",
   "name": "python",
   "nbconvert_exporter": "python",
   "pygments_lexer": "ipython3",
   "version": "3.8.5"
  }
 },
 "nbformat": 4,
 "nbformat_minor": 4
}
